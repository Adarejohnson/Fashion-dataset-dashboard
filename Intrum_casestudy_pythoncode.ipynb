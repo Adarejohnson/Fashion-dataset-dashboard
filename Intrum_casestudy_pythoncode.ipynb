{
  "nbformat": 4,
  "nbformat_minor": 0,
  "metadata": {
    "colab": {
      "provenance": [],
      "mount_file_id": "1aKI7-R0B_XfJsENCFK2KjqnVZFepZSxY",
      "authorship_tag": "ABX9TyNzoazaK0mRBhsz0daSqVfB",
      "include_colab_link": true
    },
    "kernelspec": {
      "name": "python3",
      "display_name": "Python 3"
    },
    "language_info": {
      "name": "python"
    }
  },
  "cells": [
    {
      "cell_type": "markdown",
      "metadata": {
        "id": "view-in-github",
        "colab_type": "text"
      },
      "source": [
        "<a href=\"https://colab.research.google.com/github/Adarejohnson/Fashion-dataset-dashboard/blob/main/Intrum_casestudy_pythoncode.ipynb\" target=\"_parent\"><img src=\"https://colab.research.google.com/assets/colab-badge.svg\" alt=\"Open In Colab\"/></a>"
      ]
    },
    {
      "cell_type": "code",
      "execution_count": 1,
      "metadata": {
        "colab": {
          "base_uri": "https://localhost:8080/",
          "height": 226
        },
        "id": "p0UOtUQkkSva",
        "outputId": "b8ce3172-57b0-40a3-970f-ac4ca186fef1"
      },
      "outputs": [
        {
          "output_type": "execute_result",
          "data": {
            "text/plain": [
              "  CustomerReference  TotalToPay  FirstPayment FirstPaymentDate  \\\n",
              "0         XXXXXXXX1      430.86        430.86       2020-07-08   \n",
              "1         XXXXXXXX2      143.62        143.62       2020-07-16   \n",
              "2         XXXXXXXX3      200.56        200.56       2020-07-15   \n",
              "3         XXXXXXXX4       89.60         89.60       2020-08-29   \n",
              "4         XXXXXXXX5      181.23        181.23       2020-10-19   \n",
              "\n",
              "   NumberOfPayments  InstalmentAmount Frequency FrequencyType  FrequencyNumber  \n",
              "0                 0               0.0    single             D                0  \n",
              "1                 0               0.0    single             D                0  \n",
              "2                 0               0.0    single             D                0  \n",
              "3                 0               0.0    single             D                0  \n",
              "4                 0               0.0    single             D                0  "
            ],
            "text/html": [
              "\n",
              "  <div id=\"df-e7f4071f-4c40-4bbc-8dcb-9688a16058af\" class=\"colab-df-container\">\n",
              "    <div>\n",
              "<style scoped>\n",
              "    .dataframe tbody tr th:only-of-type {\n",
              "        vertical-align: middle;\n",
              "    }\n",
              "\n",
              "    .dataframe tbody tr th {\n",
              "        vertical-align: top;\n",
              "    }\n",
              "\n",
              "    .dataframe thead th {\n",
              "        text-align: right;\n",
              "    }\n",
              "</style>\n",
              "<table border=\"1\" class=\"dataframe\">\n",
              "  <thead>\n",
              "    <tr style=\"text-align: right;\">\n",
              "      <th></th>\n",
              "      <th>CustomerReference</th>\n",
              "      <th>TotalToPay</th>\n",
              "      <th>FirstPayment</th>\n",
              "      <th>FirstPaymentDate</th>\n",
              "      <th>NumberOfPayments</th>\n",
              "      <th>InstalmentAmount</th>\n",
              "      <th>Frequency</th>\n",
              "      <th>FrequencyType</th>\n",
              "      <th>FrequencyNumber</th>\n",
              "    </tr>\n",
              "  </thead>\n",
              "  <tbody>\n",
              "    <tr>\n",
              "      <th>0</th>\n",
              "      <td>XXXXXXXX1</td>\n",
              "      <td>430.86</td>\n",
              "      <td>430.86</td>\n",
              "      <td>2020-07-08</td>\n",
              "      <td>0</td>\n",
              "      <td>0.0</td>\n",
              "      <td>single</td>\n",
              "      <td>D</td>\n",
              "      <td>0</td>\n",
              "    </tr>\n",
              "    <tr>\n",
              "      <th>1</th>\n",
              "      <td>XXXXXXXX2</td>\n",
              "      <td>143.62</td>\n",
              "      <td>143.62</td>\n",
              "      <td>2020-07-16</td>\n",
              "      <td>0</td>\n",
              "      <td>0.0</td>\n",
              "      <td>single</td>\n",
              "      <td>D</td>\n",
              "      <td>0</td>\n",
              "    </tr>\n",
              "    <tr>\n",
              "      <th>2</th>\n",
              "      <td>XXXXXXXX3</td>\n",
              "      <td>200.56</td>\n",
              "      <td>200.56</td>\n",
              "      <td>2020-07-15</td>\n",
              "      <td>0</td>\n",
              "      <td>0.0</td>\n",
              "      <td>single</td>\n",
              "      <td>D</td>\n",
              "      <td>0</td>\n",
              "    </tr>\n",
              "    <tr>\n",
              "      <th>3</th>\n",
              "      <td>XXXXXXXX4</td>\n",
              "      <td>89.60</td>\n",
              "      <td>89.60</td>\n",
              "      <td>2020-08-29</td>\n",
              "      <td>0</td>\n",
              "      <td>0.0</td>\n",
              "      <td>single</td>\n",
              "      <td>D</td>\n",
              "      <td>0</td>\n",
              "    </tr>\n",
              "    <tr>\n",
              "      <th>4</th>\n",
              "      <td>XXXXXXXX5</td>\n",
              "      <td>181.23</td>\n",
              "      <td>181.23</td>\n",
              "      <td>2020-10-19</td>\n",
              "      <td>0</td>\n",
              "      <td>0.0</td>\n",
              "      <td>single</td>\n",
              "      <td>D</td>\n",
              "      <td>0</td>\n",
              "    </tr>\n",
              "  </tbody>\n",
              "</table>\n",
              "</div>\n",
              "    <div class=\"colab-df-buttons\">\n",
              "\n",
              "  <div class=\"colab-df-container\">\n",
              "    <button class=\"colab-df-convert\" onclick=\"convertToInteractive('df-e7f4071f-4c40-4bbc-8dcb-9688a16058af')\"\n",
              "            title=\"Convert this dataframe to an interactive table.\"\n",
              "            style=\"display:none;\">\n",
              "\n",
              "  <svg xmlns=\"http://www.w3.org/2000/svg\" height=\"24px\" viewBox=\"0 -960 960 960\">\n",
              "    <path d=\"M120-120v-720h720v720H120Zm60-500h600v-160H180v160Zm220 220h160v-160H400v160Zm0 220h160v-160H400v160ZM180-400h160v-160H180v160Zm440 0h160v-160H620v160ZM180-180h160v-160H180v160Zm440 0h160v-160H620v160Z\"/>\n",
              "  </svg>\n",
              "    </button>\n",
              "\n",
              "  <style>\n",
              "    .colab-df-container {\n",
              "      display:flex;\n",
              "      gap: 12px;\n",
              "    }\n",
              "\n",
              "    .colab-df-convert {\n",
              "      background-color: #E8F0FE;\n",
              "      border: none;\n",
              "      border-radius: 50%;\n",
              "      cursor: pointer;\n",
              "      display: none;\n",
              "      fill: #1967D2;\n",
              "      height: 32px;\n",
              "      padding: 0 0 0 0;\n",
              "      width: 32px;\n",
              "    }\n",
              "\n",
              "    .colab-df-convert:hover {\n",
              "      background-color: #E2EBFA;\n",
              "      box-shadow: 0px 1px 2px rgba(60, 64, 67, 0.3), 0px 1px 3px 1px rgba(60, 64, 67, 0.15);\n",
              "      fill: #174EA6;\n",
              "    }\n",
              "\n",
              "    .colab-df-buttons div {\n",
              "      margin-bottom: 4px;\n",
              "    }\n",
              "\n",
              "    [theme=dark] .colab-df-convert {\n",
              "      background-color: #3B4455;\n",
              "      fill: #D2E3FC;\n",
              "    }\n",
              "\n",
              "    [theme=dark] .colab-df-convert:hover {\n",
              "      background-color: #434B5C;\n",
              "      box-shadow: 0px 1px 3px 1px rgba(0, 0, 0, 0.15);\n",
              "      filter: drop-shadow(0px 1px 2px rgba(0, 0, 0, 0.3));\n",
              "      fill: #FFFFFF;\n",
              "    }\n",
              "  </style>\n",
              "\n",
              "    <script>\n",
              "      const buttonEl =\n",
              "        document.querySelector('#df-e7f4071f-4c40-4bbc-8dcb-9688a16058af button.colab-df-convert');\n",
              "      buttonEl.style.display =\n",
              "        google.colab.kernel.accessAllowed ? 'block' : 'none';\n",
              "\n",
              "      async function convertToInteractive(key) {\n",
              "        const element = document.querySelector('#df-e7f4071f-4c40-4bbc-8dcb-9688a16058af');\n",
              "        const dataTable =\n",
              "          await google.colab.kernel.invokeFunction('convertToInteractive',\n",
              "                                                    [key], {});\n",
              "        if (!dataTable) return;\n",
              "\n",
              "        const docLinkHtml = 'Like what you see? Visit the ' +\n",
              "          '<a target=\"_blank\" href=https://colab.research.google.com/notebooks/data_table.ipynb>data table notebook</a>'\n",
              "          + ' to learn more about interactive tables.';\n",
              "        element.innerHTML = '';\n",
              "        dataTable['output_type'] = 'display_data';\n",
              "        await google.colab.output.renderOutput(dataTable, element);\n",
              "        const docLink = document.createElement('div');\n",
              "        docLink.innerHTML = docLinkHtml;\n",
              "        element.appendChild(docLink);\n",
              "      }\n",
              "    </script>\n",
              "  </div>\n",
              "\n",
              "\n",
              "<div id=\"df-40613bae-12af-4328-bf11-a907e1a72e0a\">\n",
              "  <button class=\"colab-df-quickchart\" onclick=\"quickchart('df-40613bae-12af-4328-bf11-a907e1a72e0a')\"\n",
              "            title=\"Suggest charts\"\n",
              "            style=\"display:none;\">\n",
              "\n",
              "<svg xmlns=\"http://www.w3.org/2000/svg\" height=\"24px\"viewBox=\"0 0 24 24\"\n",
              "     width=\"24px\">\n",
              "    <g>\n",
              "        <path d=\"M19 3H5c-1.1 0-2 .9-2 2v14c0 1.1.9 2 2 2h14c1.1 0 2-.9 2-2V5c0-1.1-.9-2-2-2zM9 17H7v-7h2v7zm4 0h-2V7h2v10zm4 0h-2v-4h2v4z\"/>\n",
              "    </g>\n",
              "</svg>\n",
              "  </button>\n",
              "\n",
              "<style>\n",
              "  .colab-df-quickchart {\n",
              "      --bg-color: #E8F0FE;\n",
              "      --fill-color: #1967D2;\n",
              "      --hover-bg-color: #E2EBFA;\n",
              "      --hover-fill-color: #174EA6;\n",
              "      --disabled-fill-color: #AAA;\n",
              "      --disabled-bg-color: #DDD;\n",
              "  }\n",
              "\n",
              "  [theme=dark] .colab-df-quickchart {\n",
              "      --bg-color: #3B4455;\n",
              "      --fill-color: #D2E3FC;\n",
              "      --hover-bg-color: #434B5C;\n",
              "      --hover-fill-color: #FFFFFF;\n",
              "      --disabled-bg-color: #3B4455;\n",
              "      --disabled-fill-color: #666;\n",
              "  }\n",
              "\n",
              "  .colab-df-quickchart {\n",
              "    background-color: var(--bg-color);\n",
              "    border: none;\n",
              "    border-radius: 50%;\n",
              "    cursor: pointer;\n",
              "    display: none;\n",
              "    fill: var(--fill-color);\n",
              "    height: 32px;\n",
              "    padding: 0;\n",
              "    width: 32px;\n",
              "  }\n",
              "\n",
              "  .colab-df-quickchart:hover {\n",
              "    background-color: var(--hover-bg-color);\n",
              "    box-shadow: 0 1px 2px rgba(60, 64, 67, 0.3), 0 1px 3px 1px rgba(60, 64, 67, 0.15);\n",
              "    fill: var(--button-hover-fill-color);\n",
              "  }\n",
              "\n",
              "  .colab-df-quickchart-complete:disabled,\n",
              "  .colab-df-quickchart-complete:disabled:hover {\n",
              "    background-color: var(--disabled-bg-color);\n",
              "    fill: var(--disabled-fill-color);\n",
              "    box-shadow: none;\n",
              "  }\n",
              "\n",
              "  .colab-df-spinner {\n",
              "    border: 2px solid var(--fill-color);\n",
              "    border-color: transparent;\n",
              "    border-bottom-color: var(--fill-color);\n",
              "    animation:\n",
              "      spin 1s steps(1) infinite;\n",
              "  }\n",
              "\n",
              "  @keyframes spin {\n",
              "    0% {\n",
              "      border-color: transparent;\n",
              "      border-bottom-color: var(--fill-color);\n",
              "      border-left-color: var(--fill-color);\n",
              "    }\n",
              "    20% {\n",
              "      border-color: transparent;\n",
              "      border-left-color: var(--fill-color);\n",
              "      border-top-color: var(--fill-color);\n",
              "    }\n",
              "    30% {\n",
              "      border-color: transparent;\n",
              "      border-left-color: var(--fill-color);\n",
              "      border-top-color: var(--fill-color);\n",
              "      border-right-color: var(--fill-color);\n",
              "    }\n",
              "    40% {\n",
              "      border-color: transparent;\n",
              "      border-right-color: var(--fill-color);\n",
              "      border-top-color: var(--fill-color);\n",
              "    }\n",
              "    60% {\n",
              "      border-color: transparent;\n",
              "      border-right-color: var(--fill-color);\n",
              "    }\n",
              "    80% {\n",
              "      border-color: transparent;\n",
              "      border-right-color: var(--fill-color);\n",
              "      border-bottom-color: var(--fill-color);\n",
              "    }\n",
              "    90% {\n",
              "      border-color: transparent;\n",
              "      border-bottom-color: var(--fill-color);\n",
              "    }\n",
              "  }\n",
              "</style>\n",
              "\n",
              "  <script>\n",
              "    async function quickchart(key) {\n",
              "      const quickchartButtonEl =\n",
              "        document.querySelector('#' + key + ' button');\n",
              "      quickchartButtonEl.disabled = true;  // To prevent multiple clicks.\n",
              "      quickchartButtonEl.classList.add('colab-df-spinner');\n",
              "      try {\n",
              "        const charts = await google.colab.kernel.invokeFunction(\n",
              "            'suggestCharts', [key], {});\n",
              "      } catch (error) {\n",
              "        console.error('Error during call to suggestCharts:', error);\n",
              "      }\n",
              "      quickchartButtonEl.classList.remove('colab-df-spinner');\n",
              "      quickchartButtonEl.classList.add('colab-df-quickchart-complete');\n",
              "    }\n",
              "    (() => {\n",
              "      let quickchartButtonEl =\n",
              "        document.querySelector('#df-40613bae-12af-4328-bf11-a907e1a72e0a button');\n",
              "      quickchartButtonEl.style.display =\n",
              "        google.colab.kernel.accessAllowed ? 'block' : 'none';\n",
              "    })();\n",
              "  </script>\n",
              "</div>\n",
              "\n",
              "    </div>\n",
              "  </div>\n"
            ],
            "application/vnd.google.colaboratory.intrinsic+json": {
              "type": "dataframe",
              "variable_name": "casestudy_df",
              "summary": "{\n  \"name\": \"casestudy_df\",\n  \"rows\": 687,\n  \"fields\": [\n    {\n      \"column\": \"CustomerReference\",\n      \"properties\": {\n        \"dtype\": \"string\",\n        \"num_unique_values\": 687,\n        \"samples\": [\n          \"XXXXXX287\",\n          \"XXXXXX654\",\n          \"XXXXXX258\"\n        ],\n        \"semantic_type\": \"\",\n        \"description\": \"\"\n      }\n    },\n    {\n      \"column\": \"TotalToPay\",\n      \"properties\": {\n        \"dtype\": \"number\",\n        \"std\": 909.6935706913686,\n        \"min\": 0.1,\n        \"max\": 12137.47,\n        \"num_unique_values\": 497,\n        \"samples\": [\n          194.79,\n          2032.29,\n          413.77\n        ],\n        \"semantic_type\": \"\",\n        \"description\": \"\"\n      }\n    },\n    {\n      \"column\": \"FirstPayment\",\n      \"properties\": {\n        \"dtype\": \"number\",\n        \"std\": 182.45072016090685,\n        \"min\": 0.1,\n        \"max\": 2032.29,\n        \"num_unique_values\": 443,\n        \"samples\": [\n          3.32,\n          186.46,\n          38.0\n        ],\n        \"semantic_type\": \"\",\n        \"description\": \"\"\n      }\n    },\n    {\n      \"column\": \"FirstPaymentDate\",\n      \"properties\": {\n        \"dtype\": \"object\",\n        \"num_unique_values\": 361,\n        \"samples\": [\n          \"2022-09-15\",\n          \"2022-06-17\",\n          \"2021-08-28\"\n        ],\n        \"semantic_type\": \"\",\n        \"description\": \"\"\n      }\n    },\n    {\n      \"column\": \"NumberOfPayments\",\n      \"properties\": {\n        \"dtype\": \"number\",\n        \"std\": 51,\n        \"min\": 0,\n        \"max\": 850,\n        \"num_unique_values\": 65,\n        \"samples\": [\n          80,\n          79,\n          0\n        ],\n        \"semantic_type\": \"\",\n        \"description\": \"\"\n      }\n    },\n    {\n      \"column\": \"InstalmentAmount\",\n      \"properties\": {\n        \"dtype\": \"number\",\n        \"std\": 57.59913044771167,\n        \"min\": 0.0,\n        \"max\": 525.18,\n        \"num_unique_values\": 94,\n        \"samples\": [\n          40.0,\n          30.63,\n          5.0\n        ],\n        \"semantic_type\": \"\",\n        \"description\": \"\"\n      }\n    },\n    {\n      \"column\": \"Frequency\",\n      \"properties\": {\n        \"dtype\": \"category\",\n        \"num_unique_values\": 3,\n        \"samples\": [\n          \"single\",\n          \"monthly\",\n          \"weekly\"\n        ],\n        \"semantic_type\": \"\",\n        \"description\": \"\"\n      }\n    },\n    {\n      \"column\": \"FrequencyType\",\n      \"properties\": {\n        \"dtype\": \"category\",\n        \"num_unique_values\": 2,\n        \"samples\": [\n          \"M\",\n          \"D\"\n        ],\n        \"semantic_type\": \"\",\n        \"description\": \"\"\n      }\n    },\n    {\n      \"column\": \"FrequencyNumber\",\n      \"properties\": {\n        \"dtype\": \"number\",\n        \"std\": 0,\n        \"min\": 0,\n        \"max\": 7,\n        \"num_unique_values\": 3,\n        \"samples\": [\n          0,\n          1\n        ],\n        \"semantic_type\": \"\",\n        \"description\": \"\"\n      }\n    }\n  ]\n}"
            }
          },
          "metadata": {},
          "execution_count": 1
        }
      ],
      "source": [
        "import pandas as pd # Loading pandas library\n",
        "from datetime import datetime, timedelta # Loading datetime library\n",
        "casestudy_df = pd.read_csv('/content/sample_data/CaseStudy Data.csv') # Loading casestudy as dataframe\n",
        "casestudy_df.head() # print dataframe\n"
      ]
    },
    {
      "cell_type": "markdown",
      "source": [
        "Data Pre-processing, check for null values and duplicates"
      ],
      "metadata": {
        "id": "o-ZDHmYupx1l"
      }
    },
    {
      "cell_type": "code",
      "source": [
        "casestudy_df.isnull().sum() # check for null values"
      ],
      "metadata": {
        "colab": {
          "base_uri": "https://localhost:8080/"
        },
        "id": "odYDG24Np3yg",
        "outputId": "3171874b-ebdb-444d-830d-3f16df4dda52"
      },
      "execution_count": 2,
      "outputs": [
        {
          "output_type": "execute_result",
          "data": {
            "text/plain": [
              "CustomerReference    0\n",
              "TotalToPay           0\n",
              "FirstPayment         0\n",
              "FirstPaymentDate     0\n",
              "NumberOfPayments     0\n",
              "InstalmentAmount     0\n",
              "Frequency            0\n",
              "FrequencyType        0\n",
              "FrequencyNumber      0\n",
              "dtype: int64"
            ]
          },
          "metadata": {},
          "execution_count": 2
        }
      ]
    },
    {
      "cell_type": "code",
      "source": [
        "casestudy_df.duplicated().sum() # check for duplicates"
      ],
      "metadata": {
        "colab": {
          "base_uri": "https://localhost:8080/"
        },
        "id": "77vxttQkqECW",
        "outputId": "aa6b0bb8-ea94-48f1-ab85-2d56fc118b88"
      },
      "execution_count": 3,
      "outputs": [
        {
          "output_type": "execute_result",
          "data": {
            "text/plain": [
              "0"
            ]
          },
          "metadata": {},
          "execution_count": 3
        }
      ]
    },
    {
      "cell_type": "code",
      "source": [
        "casestudy_df.info() # check data types"
      ],
      "metadata": {
        "colab": {
          "base_uri": "https://localhost:8080/"
        },
        "id": "R-OJPEGEqMdh",
        "outputId": "2ca589ad-79a5-4bdc-8322-91ba21da3256"
      },
      "execution_count": 4,
      "outputs": [
        {
          "output_type": "stream",
          "name": "stdout",
          "text": [
            "<class 'pandas.core.frame.DataFrame'>\n",
            "RangeIndex: 687 entries, 0 to 686\n",
            "Data columns (total 9 columns):\n",
            " #   Column             Non-Null Count  Dtype  \n",
            "---  ------             --------------  -----  \n",
            " 0   CustomerReference  687 non-null    object \n",
            " 1   TotalToPay         687 non-null    float64\n",
            " 2   FirstPayment       687 non-null    float64\n",
            " 3   FirstPaymentDate   687 non-null    object \n",
            " 4   NumberOfPayments   687 non-null    int64  \n",
            " 5   InstalmentAmount   687 non-null    float64\n",
            " 6   Frequency          687 non-null    object \n",
            " 7   FrequencyType      687 non-null    object \n",
            " 8   FrequencyNumber    687 non-null    int64  \n",
            "dtypes: float64(3), int64(2), object(4)\n",
            "memory usage: 48.4+ KB\n"
          ]
        }
      ]
    },
    {
      "cell_type": "code",
      "source": [
        "print(casestudy_df.apply(lambda Frequency: Frequency.unique()))"
      ],
      "metadata": {
        "colab": {
          "base_uri": "https://localhost:8080/"
        },
        "id": "Dhs6m6bQrpC4",
        "outputId": "fd886991-e3e1-4345-ad94-8ef5c9e408ee"
      },
      "execution_count": 10,
      "outputs": [
        {
          "output_type": "stream",
          "name": "stdout",
          "text": [
            "CustomerReference    [XXXXXXXX1, XXXXXXXX2, XXXXXXXX3, XXXXXXXX4, X...\n",
            "TotalToPay           [430.86, 143.62, 200.56, 89.6, 181.23, 1036.51...\n",
            "FirstPayment         [430.86, 143.62, 200.56, 89.6, 181.23, 86.87, ...\n",
            "FirstPaymentDate     [2020-07-08, 2020-07-16, 2020-07-15, 2020-08-2...\n",
            "NumberOfPayments     [0, 12, 16, 104, 195, 5, 6, 7, 8, 9, 10, 3, 18...\n",
            "InstalmentAmount     [0.0, 86.87, 45.7, 100.0, 300.52, 321.08, 377....\n",
            "Frequency                                    [single, monthly, weekly]\n",
            "FrequencyType                                                   [D, M]\n",
            "FrequencyNumber                                              [0, 1, 7]\n",
            "dtype: object\n"
          ]
        }
      ]
    },
    {
      "cell_type": "code",
      "source": [
        "def calculate_payments(row): # Creating function to calculate planned payments\n",
        "    start_date = datetime.strptime(row['FirstPaymentDate'], '%Y-%m-%d')\n",
        "    payments = []\n",
        "    total_to_pay = row['TotalToPay']\n",
        "    first_payment = row['FirstPayment']\n",
        "    installment_payment = row['InstalmentAmount']\n",
        "    frequency_number = row['FrequencyNumber']\n",
        "    frequency_type = row['FrequencyType']\n",
        "\n",
        "    if frequency_type == 'D': # converting the frequency to days\n",
        "        frequency = timedelta(days=frequency_number)\n",
        "    elif frequency_type == 'M':\n",
        "        frequency = timedelta(days=frequency_number * 30) # Using 30days cycle\n",
        "    else:\n",
        "        raise ValueError(f\"Unsupported FrequencyType: {frequency_type}\")\n",
        "       # Apply first payment\n",
        "    payments.append({\n",
        "        'PaymentDate': start_date.strftime('%Y-%m-%d'),\n",
        "        'PaymentAmount': first_payment\n",
        "    })\n",
        "    total_to_pay -= first_payment\n",
        "    current_date = start_date + frequency\n",
        "\n",
        "    # Calculate subsequent payments\n",
        "    while total_to_pay > 0:\n",
        "        if total_to_pay < installment_payment:\n",
        "            installment_payment = total_to_pay\n",
        "        payments.append({\n",
        "            'PaymentDate': current_date.strftime('%Y-%m-%d'),\n",
        "            'PaymentAmount': installment_payment\n",
        "        })\n",
        "        total_to_pay -= installment_payment\n",
        "        current_date += frequency\n",
        "\n",
        "    return payments\n",
        "\n"
      ],
      "metadata": {
        "id": "Enc5QOInqaGs"
      },
      "execution_count": 11,
      "outputs": []
    },
    {
      "cell_type": "code",
      "source": [
        "# Apply the function to each row\n",
        "casestudy_df['PlannedPayments'] = casestudy_df.apply(calculate_payments, axis=1)\n",
        "\n",
        "# Extract the last payment date and amount\n",
        "def get_last_payment(payments):\n",
        "    last_payment = payments[-1]\n",
        "    return pd.Series([last_payment['PaymentDate'], last_payment['PaymentAmount']])\n",
        "\n",
        "casestudy_df[['LastPaymentDate', 'LastPaymentAmount']] = casestudy_df['PlannedPayments'].apply(lambda x: get_last_payment(x))"
      ],
      "metadata": {
        "id": "VEQK-748u28m"
      },
      "execution_count": 12,
      "outputs": []
    },
    {
      "cell_type": "code",
      "source": [
        "# Example output\n",
        "print(casestudy_df[['CustomerReference', 'PlannedPayments', 'LastPaymentDate', 'LastPaymentAmount']])"
      ],
      "metadata": {
        "colab": {
          "base_uri": "https://localhost:8080/"
        },
        "id": "0Oj9F2QcwG0R",
        "outputId": "cdce4520-e08a-4574-960d-a7cd70507939"
      },
      "execution_count": 13,
      "outputs": [
        {
          "output_type": "stream",
          "name": "stdout",
          "text": [
            "    CustomerReference                                    PlannedPayments  \\\n",
            "0           XXXXXXXX1  [{'PaymentDate': '2020-07-08', 'PaymentAmount'...   \n",
            "1           XXXXXXXX2  [{'PaymentDate': '2020-07-16', 'PaymentAmount'...   \n",
            "2           XXXXXXXX3  [{'PaymentDate': '2020-07-15', 'PaymentAmount'...   \n",
            "3           XXXXXXXX4  [{'PaymentDate': '2020-08-29', 'PaymentAmount'...   \n",
            "4           XXXXXXXX5  [{'PaymentDate': '2020-10-19', 'PaymentAmount'...   \n",
            "..                ...                                                ...   \n",
            "682         XXXXXX683  [{'PaymentDate': '2022-11-10', 'PaymentAmount'...   \n",
            "683         XXXXXX684  [{'PaymentDate': '2022-11-30', 'PaymentAmount'...   \n",
            "684         XXXXXX685  [{'PaymentDate': '2022-11-09', 'PaymentAmount'...   \n",
            "685         XXXXXX686  [{'PaymentDate': '2022-11-10', 'PaymentAmount'...   \n",
            "686         XXXXXX687  [{'PaymentDate': '2022-11-15', 'PaymentAmount'...   \n",
            "\n",
            "    LastPaymentDate  LastPaymentAmount  \n",
            "0        2020-07-08             430.86  \n",
            "1        2020-07-16             143.62  \n",
            "2        2020-07-15             200.56  \n",
            "3        2020-08-29              89.60  \n",
            "4        2020-10-19             181.23  \n",
            "..              ...                ...  \n",
            "682      2022-11-10             199.24  \n",
            "683      2022-12-30             149.84  \n",
            "684      2022-11-09             332.07  \n",
            "685      2022-11-10             453.54  \n",
            "686      2022-11-15             236.29  \n",
            "\n",
            "[687 rows x 4 columns]\n"
          ]
        }
      ]
    },
    {
      "cell_type": "code",
      "source": [
        "# Save the results to an Excel file\n",
        "casestudy_df.to_excel('/content/sample_data/arrangement_payments.xlsx', index=False)"
      ],
      "metadata": {
        "id": "5OVPwAf6wAXc"
      },
      "execution_count": 14,
      "outputs": []
    }
  ]
}